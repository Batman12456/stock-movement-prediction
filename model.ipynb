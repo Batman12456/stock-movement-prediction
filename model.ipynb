{
 "cells": [
  {
   "cell_type": "code",
   "execution_count": 1,
   "metadata": {},
   "outputs": [],
   "source": [
    "import numpy as np\n",
    "import json\n",
    "import tensorflow as tf\n",
    "from sklearn.model_selection import train_test_split\n",
    "from tensorflow.keras.models import Sequential\n",
    "from tensorflow.keras.layers import Dense, Dropout\n",
    "from tensorflow.keras.optimizers import Adam\n",
    "from tensorflow.keras.losses import BinaryCrossentropy\n",
    "from tensorflow.keras.preprocessing.sequence import pad_sequences"
   ]
  },
  {
   "cell_type": "code",
   "execution_count": 3,
   "metadata": {},
   "outputs": [],
   "source": [
    "# Load the data\n",
    "with open(\"sentiment_stock_data1.json\", \"r\") as file:\n",
    "    data = json.load(file)\n",
    "\n",
    "# Prepare the dataset\n",
    "X_sentiments = []\n",
    "X_previous_close = []\n",
    "y = []\n",
    "\n",
    "for company, details in data.items():\n",
    "    sentiments = details[\"sentiments\"]  # List of decimal sentiment values\n",
    "    previous_close = details[\"previous_close\"]  # Previous close price for the company\n",
    "    stock_movement = details[\"stock_movement\"] # The Movement of stock price\n",
    "    \n",
    "    X_sentiments.append(sentiments)\n",
    "    X_previous_close.append(previous_close)\n",
    "    y.append(stock_movement)\n",
    "\n",
    "# Pad the sentiment sequences to a fixed length\n",
    "max_length = max(len(s) for s in X_sentiments)\n",
    "X_sentiments_padded = pad_sequences(X_sentiments, padding='post', maxlen=max_length)\n",
    "\n",
    "# Combine padded sentiments and previous close prices into a single feature set\n",
    "X = np.hstack((X_sentiments_padded, np.array(X_previous_close).reshape(-1, 1)))\n",
    "y = np.array(y)\n",
    "\n",
    "# Split into training and testing datasets\n",
    "X_train, X_test, y_train, y_test = train_test_split(X, y, test_size=0.2, random_state=42)"
   ]
  },
  {
   "cell_type": "code",
   "execution_count": 4,
   "metadata": {},
   "outputs": [
    {
     "name": "stderr",
     "output_type": "stream",
     "text": [
      "d:\\Python\\.venv\\Lib\\site-packages\\keras\\src\\layers\\core\\dense.py:87: UserWarning: Do not pass an `input_shape`/`input_dim` argument to a layer. When using Sequential models, prefer using an `Input(shape)` object as the first layer in the model instead.\n",
      "  super().__init__(activity_regularizer=activity_regularizer, **kwargs)\n"
     ]
    }
   ],
   "source": [
    "# Define the binary classification model\n",
    "model = Sequential([\n",
    "    Dense(64, activation=\"relu\", input_shape=(X_train.shape[1],)),\n",
    "    Dropout(0.3),\n",
    "    Dense(32, activation=\"relu\"),\n",
    "    Dense(16, activation=\"relu\"),\n",
    "    Dense(1, activation=\"sigmoid\")  # Sigmoid output for binary classification (0 or 1)\n",
    "])"
   ]
  },
  {
   "cell_type": "code",
   "execution_count": 7,
   "metadata": {},
   "outputs": [],
   "source": [
    "def binary_accuracy(y_true, y_pred):\n",
    "    # Convert y_true to float32 to match y_pred_bin type\n",
    "    y_true = tf.cast(y_true, tf.float32)\n",
    "    y_pred_bin = tf.cast(y_pred > 0.5, tf.float32)  # Convert probabilities to binary (0 or 1)\n",
    "    return tf.reduce_mean(tf.cast(tf.equal(y_true, y_pred_bin), tf.float32))\n",
    "\n",
    "\n",
    "# Recompile the model to include the custom metric\n",
    "model.compile(\n",
    "    optimizer=Adam(learning_rate=0.001),\n",
    "    loss=BinaryCrossentropy(),  # Use binary cross-entropy loss\n",
    "    metrics=[binary_accuracy]  # Use the custom binary accuracy metric\n",
    ")"
   ]
  },
  {
   "cell_type": "code",
   "execution_count": 8,
   "metadata": {},
   "outputs": [
    {
     "name": "stdout",
     "output_type": "stream",
     "text": [
      "Epoch 1/20\n",
      "\u001b[1m1/1\u001b[0m \u001b[32m━━━━━━━━━━━━━━━━━━━━\u001b[0m\u001b[37m\u001b[0m \u001b[1m2s\u001b[0m 2s/step - binary_accuracy: 0.7188 - loss: 2.0789 - val_binary_accuracy: 0.6667 - val_loss: 0.3025\n",
      "Epoch 2/20\n",
      "\u001b[1m1/1\u001b[0m \u001b[32m━━━━━━━━━━━━━━━━━━━━\u001b[0m\u001b[37m\u001b[0m \u001b[1m0s\u001b[0m 121ms/step - binary_accuracy: 0.7431 - loss: 1.4944 - val_binary_accuracy: 0.6667 - val_loss: 0.3532\n",
      "Epoch 3/20\n",
      "\u001b[1m1/1\u001b[0m \u001b[32m━━━━━━━━━━━━━━━━━━━━\u001b[0m\u001b[37m\u001b[0m \u001b[1m0s\u001b[0m 120ms/step - binary_accuracy: 0.6701 - loss: 1.0523 - val_binary_accuracy: 0.6667 - val_loss: 0.4245\n",
      "Epoch 4/20\n",
      "\u001b[1m1/1\u001b[0m \u001b[32m━━━━━━━━━━━━━━━━━━━━\u001b[0m\u001b[37m\u001b[0m \u001b[1m0s\u001b[0m 123ms/step - binary_accuracy: 0.7431 - loss: 1.0326 - val_binary_accuracy: 0.6667 - val_loss: 0.5684\n",
      "Epoch 5/20\n",
      "\u001b[1m1/1\u001b[0m \u001b[32m━━━━━━━━━━━━━━━━━━━━\u001b[0m\u001b[37m\u001b[0m \u001b[1m0s\u001b[0m 126ms/step - binary_accuracy: 0.5972 - loss: 1.5546 - val_binary_accuracy: 0.4444 - val_loss: 0.7563\n",
      "Epoch 6/20\n",
      "\u001b[1m1/1\u001b[0m \u001b[32m━━━━━━━━━━━━━━━━━━━━\u001b[0m\u001b[37m\u001b[0m \u001b[1m0s\u001b[0m 121ms/step - binary_accuracy: 0.6458 - loss: 1.4154 - val_binary_accuracy: 0.4444 - val_loss: 0.8795\n",
      "Epoch 7/20\n",
      "\u001b[1m1/1\u001b[0m \u001b[32m━━━━━━━━━━━━━━━━━━━━\u001b[0m\u001b[37m\u001b[0m \u001b[1m0s\u001b[0m 122ms/step - binary_accuracy: 0.5729 - loss: 0.8577 - val_binary_accuracy: 0.4444 - val_loss: 0.9082\n",
      "Epoch 8/20\n",
      "\u001b[1m1/1\u001b[0m \u001b[32m━━━━━━━━━━━━━━━━━━━━\u001b[0m\u001b[37m\u001b[0m \u001b[1m0s\u001b[0m 126ms/step - binary_accuracy: 0.5972 - loss: 1.7325 - val_binary_accuracy: 0.4444 - val_loss: 0.9963\n",
      "Epoch 9/20\n",
      "\u001b[1m1/1\u001b[0m \u001b[32m━━━━━━━━━━━━━━━━━━━━\u001b[0m\u001b[37m\u001b[0m \u001b[1m0s\u001b[0m 136ms/step - binary_accuracy: 0.6458 - loss: 1.1147 - val_binary_accuracy: 0.4444 - val_loss: 1.0435\n",
      "Epoch 10/20\n",
      "\u001b[1m1/1\u001b[0m \u001b[32m━━━━━━━━━━━━━━━━━━━━\u001b[0m\u001b[37m\u001b[0m \u001b[1m0s\u001b[0m 134ms/step - binary_accuracy: 0.5243 - loss: 1.3617 - val_binary_accuracy: 0.4444 - val_loss: 0.9929\n",
      "Epoch 11/20\n",
      "\u001b[1m1/1\u001b[0m \u001b[32m━━━━━━━━━━━━━━━━━━━━\u001b[0m\u001b[37m\u001b[0m \u001b[1m0s\u001b[0m 139ms/step - binary_accuracy: 0.4757 - loss: 0.8543 - val_binary_accuracy: 0.4444 - val_loss: 0.8997\n",
      "Epoch 12/20\n",
      "\u001b[1m1/1\u001b[0m \u001b[32m━━━━━━━━━━━━━━━━━━━━\u001b[0m\u001b[37m\u001b[0m \u001b[1m0s\u001b[0m 129ms/step - binary_accuracy: 0.5972 - loss: 1.4697 - val_binary_accuracy: 0.4444 - val_loss: 0.7977\n",
      "Epoch 13/20\n",
      "\u001b[1m1/1\u001b[0m \u001b[32m━━━━━━━━━━━━━━━━━━━━\u001b[0m\u001b[37m\u001b[0m \u001b[1m0s\u001b[0m 133ms/step - binary_accuracy: 0.5486 - loss: 1.5900 - val_binary_accuracy: 0.5556 - val_loss: 0.7041\n",
      "Epoch 14/20\n",
      "\u001b[1m1/1\u001b[0m \u001b[32m━━━━━━━━━━━━━━━━━━━━\u001b[0m\u001b[37m\u001b[0m \u001b[1m0s\u001b[0m 136ms/step - binary_accuracy: 0.6458 - loss: 1.1852 - val_binary_accuracy: 0.6667 - val_loss: 0.6255\n",
      "Epoch 15/20\n",
      "\u001b[1m1/1\u001b[0m \u001b[32m━━━━━━━━━━━━━━━━━━━━\u001b[0m\u001b[37m\u001b[0m \u001b[1m0s\u001b[0m 132ms/step - binary_accuracy: 0.6701 - loss: 0.6225 - val_binary_accuracy: 0.6667 - val_loss: 0.5722\n",
      "Epoch 16/20\n",
      "\u001b[1m1/1\u001b[0m \u001b[32m━━━━━━━━━━━━━━━━━━━━\u001b[0m\u001b[37m\u001b[0m \u001b[1m0s\u001b[0m 124ms/step - binary_accuracy: 0.6458 - loss: 1.6921 - val_binary_accuracy: 0.6667 - val_loss: 0.5571\n",
      "Epoch 17/20\n",
      "\u001b[1m1/1\u001b[0m \u001b[32m━━━━━━━━━━━━━━━━━━━━\u001b[0m\u001b[37m\u001b[0m \u001b[1m0s\u001b[0m 132ms/step - binary_accuracy: 0.6458 - loss: 1.0338 - val_binary_accuracy: 0.6667 - val_loss: 0.5368\n",
      "Epoch 18/20\n",
      "\u001b[1m1/1\u001b[0m \u001b[32m━━━━━━━━━━━━━━━━━━━━\u001b[0m\u001b[37m\u001b[0m \u001b[1m0s\u001b[0m 138ms/step - binary_accuracy: 0.6701 - loss: 1.7053 - val_binary_accuracy: 0.6667 - val_loss: 0.5330\n",
      "Epoch 19/20\n",
      "\u001b[1m1/1\u001b[0m \u001b[32m━━━━━━━━━━━━━━━━━━━━\u001b[0m\u001b[37m\u001b[0m \u001b[1m0s\u001b[0m 126ms/step - binary_accuracy: 0.6701 - loss: 0.9667 - val_binary_accuracy: 0.6667 - val_loss: 0.5272\n",
      "Epoch 20/20\n",
      "\u001b[1m1/1\u001b[0m \u001b[32m━━━━━━━━━━━━━━━━━━━━\u001b[0m\u001b[37m\u001b[0m \u001b[1m0s\u001b[0m 123ms/step - binary_accuracy: 0.7431 - loss: 1.7207 - val_binary_accuracy: 0.6667 - val_loss: 0.5363\n"
     ]
    }
   ],
   "source": [
    "# Fit the model with the custom binary accuracy metric\n",
    "history = model.fit(X_train, y_train, epochs=20, batch_size=32, validation_split=0.1)\n"
   ]
  },
  {
   "cell_type": "code",
   "execution_count": 13,
   "metadata": {},
   "outputs": [
    {
     "name": "stderr",
     "output_type": "stream",
     "text": [
      "WARNING:absl:You are saving your model as an HDF5 file via `model.save()` or `keras.saving.save_model(model)`. This file format is considered legacy. We recommend using instead the native Keras format, e.g. `model.save('my_model.keras')` or `keras.saving.save_model(model, 'my_model.keras')`. \n"
     ]
    }
   ],
   "source": [
    "# Save the model in the specified path\n",
    "model.save('sentiment_stock_prediction_model.h5')"
   ]
  },
  {
   "cell_type": "code",
   "execution_count": 12,
   "metadata": {},
   "outputs": [
    {
     "name": "stdout",
     "output_type": "stream",
     "text": [
      "\u001b[1m1/1\u001b[0m \u001b[32m━━━━━━━━━━━━━━━━━━━━\u001b[0m\u001b[37m\u001b[0m \u001b[1m0s\u001b[0m 50ms/step\n",
      "\u001b[1m1/1\u001b[0m \u001b[32m━━━━━━━━━━━━━━━━━━━━\u001b[0m\u001b[37m\u001b[0m \u001b[1m0s\u001b[0m 55ms/step - binary_accuracy: 1.0000 - loss: 0.5391\n",
      "Test Accuracy: 1.00\n",
      "[1 1 1 1 1 1 1]\n",
      "[[0.5562217 ]\n",
      " [0.5336343 ]\n",
      " [0.53008115]\n",
      " [0.53968966]\n",
      " [0.5387726 ]\n",
      " [0.7790638 ]\n",
      " [0.64430296]]\n"
     ]
    }
   ],
   "source": [
    "#Predicting the values\n",
    "predictions = model.predict(X_test)\n",
    "# Evaluate the model\n",
    "loss, accuracy = model.evaluate(X_test, y_test)\n",
    "print(f\"Test Accuracy: {accuracy:.2f}\")\n",
    "# print(X_test)\n",
    "print(y_test)\n",
    "print(predictions)"
   ]
  }
 ],
 "metadata": {
  "kernelspec": {
   "display_name": ".venv",
   "language": "python",
   "name": "python3"
  },
  "language_info": {
   "codemirror_mode": {
    "name": "ipython",
    "version": 3
   },
   "file_extension": ".py",
   "mimetype": "text/x-python",
   "name": "python",
   "nbconvert_exporter": "python",
   "pygments_lexer": "ipython3",
   "version": "3.12.4"
  }
 },
 "nbformat": 4,
 "nbformat_minor": 2
}
